{
 "cells": [
  {
   "cell_type": "code",
   "execution_count": 1,
   "metadata": {},
   "outputs": [
    {
     "name": "stdout",
     "output_type": "stream",
     "text": [
      "Plots saved in the result_ent folder.\n"
     ]
    }
   ],
   "source": [
    "import os\n",
    "import pandas as pd\n",
    "import matplotlib.pyplot as plt\n",
    "\n",
    "# Define the folder containing the CSV files\n",
    "result_folder = 'resultados para evaluar'\n",
    "\n",
    "# Iterate through the CSV files in the folder\n",
    "for filename in os.listdir(result_folder):\n",
    "    if filename.endswith('.csv'):\n",
    "        file_path = os.path.join(result_folder, filename)\n",
    "        \n",
    "        # Read the CSV file into a DataFrame\n",
    "        df = pd.read_csv(file_path)\n",
    "        \n",
    "        # Plot the values of Loss, Value Loss, Policy Loss, and Entropy as a function of Step\n",
    "        plt.figure(figsize=(10, 6))\n",
    "        \n",
    "        plt.plot(df['Step'], df['Loss'], label='Loss')\n",
    "        plt.plot(df['Step'], df['Value Loss'], label='Value Loss')\n",
    "        plt.plot(df['Step'], df['Policy Loss'], label='Policy Loss')\n",
    "        plt.plot(df['Step'], df['Entropy'], label='Entropy')\n",
    "        \n",
    "        plt.xlabel('Step')\n",
    "        plt.ylabel('Value')\n",
    "        plt.title(f'Training Statistics for {filename}')\n",
    "        plt.legend()\n",
    "        \n",
    "        # Save the plot as a PNG file\n",
    "        plot_filename = os.path.splitext(filename)[0] + '_plot.png'\n",
    "        plot_path = os.path.join(result_folder, plot_filename)\n",
    "        plt.savefig(plot_path)\n",
    "        \n",
    "        # Close the plot to free up memory\n",
    "        plt.close()\n",
    "\n",
    "print('Plots saved in the result_ent folder.')"
   ]
  }
 ],
 "metadata": {
  "kernelspec": {
   "display_name": "Python 3",
   "language": "python",
   "name": "python3"
  },
  "language_info": {
   "codemirror_mode": {
    "name": "ipython",
    "version": 3
   },
   "file_extension": ".py",
   "mimetype": "text/x-python",
   "name": "python",
   "nbconvert_exporter": "python",
   "pygments_lexer": "ipython3",
   "version": "3.12.2"
  }
 },
 "nbformat": 4,
 "nbformat_minor": 2
}
